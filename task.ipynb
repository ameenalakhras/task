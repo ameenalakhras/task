{
 "cells": [
  {
   "cell_type": "code",
   "execution_count": 28,
   "metadata": {},
   "outputs": [],
   "source": [
    "x = [1,2,3,4]"
   ]
  },
  {
   "cell_type": "code",
   "execution_count": 29,
   "metadata": {},
   "outputs": [],
   "source": [
    "def a_section(x):\n",
    "    \"\"\"\n",
    "    function to calculate the equation (x^3 - (2* x^2) + (x-2))\n",
    "    \"\"\"\n",
    "    return (x**3) - (2*(x**2)) + (x-2)"
   ]
  },
  {
   "cell_type": "code",
   "execution_count": 30,
   "metadata": {},
   "outputs": [
    {
     "data": {
      "text/plain": [
       "10"
      ]
     },
     "execution_count": 30,
     "metadata": {},
     "output_type": "execute_result"
    }
   ],
   "source": [
    "a_section(3)"
   ]
  },
  {
   "cell_type": "code",
   "execution_count": 31,
   "metadata": {},
   "outputs": [],
   "source": [
    "def b_section(x):\n",
    "    \"\"\"\n",
    "    fuction to calculate the summation of the input list\n",
    "    x : list of input values\n",
    "    \"\"\"\n",
    "    return sum(x)"
   ]
  },
  {
   "cell_type": "code",
   "execution_count": 32,
   "metadata": {},
   "outputs": [
    {
     "data": {
      "text/plain": [
       "10"
      ]
     },
     "execution_count": 32,
     "metadata": {},
     "output_type": "execute_result"
    }
   ],
   "source": [
    "b_section(x)"
   ]
  },
  {
   "cell_type": "code",
   "execution_count": 33,
   "metadata": {},
   "outputs": [],
   "source": [
    "def c_section(x,function_name = \"a_section\"):\n",
    "    \"\"\"\n",
    "    returns the input list values as a result for the inputted function (\"function name \")\n",
    "    x: list of input values \n",
    "    function_name: the passed function to calculate name \n",
    "    \"\"\"\n",
    "    # using list comprehension \n",
    "    return eval(\"\"\" [%s(value) for value in x]\"\"\"%function_name)\n",
    "    "
   ]
  },
  {
   "cell_type": "code",
   "execution_count": 34,
   "metadata": {},
   "outputs": [
    {
     "data": {
      "text/plain": [
       "[<matplotlib.lines.Line2D at 0x7f1f33e9fc88>]"
      ]
     },
     "execution_count": 34,
     "metadata": {},
     "output_type": "execute_result"
    },
    {
     "data": {
      "image/png": "[encoded data removed]",
      "text/plain": [
       "<Figure size 432x288 with 1 Axes>"
      ]
     },
     "metadata": {
      "needs_background": "light"
     },
     "output_type": "display_data"
    }
   ],
   "source": [
    "import matplotlib.pyplot as plt \n",
    "plt.plot(x,c_section(x))"
   ]
  },
  {
   "cell_type": "code",
   "execution_count": 78,
   "metadata": {},
   "outputs": [],
   "source": [
    "def d_section(number,exponentiation,function_name):\n",
    "    if exponentiation == 0: \n",
    "        return [number]\n",
    "    elif exponentiation < 0:\n",
    "        raise(\"sorry, exponentiation have to be 0 or more than 0 \")\n",
    "        \n",
    "    else: \n",
    "        full_list = []\n",
    "        full_list.append(number)\n",
    "        exec(\"\"\"full_list.extend([%s(%s) ** exponentiation_number for exponentiation_number in range(1,exponentiation+1)])\"\"\"%(function_name,number))\n",
    "        return full_list"
   ]
  },
  {
   "cell_type": "code",
   "execution_count": 79,
   "metadata": {},
   "outputs": [
    {
     "data": {
      "text/plain": [
       "[10, 808, 652864, 527514112]"
      ]
     },
     "execution_count": 79,
     "metadata": {},
     "output_type": "execute_result"
    }
   ],
   "source": [
    "d_section(10,3,function_name=\"a_section\")"
   ]
  }
 ],
 "metadata": {
  "kernelspec": {
   "display_name": "Python 3",
   "language": "python",
   "name": "python3"
  },
  "language_info": {
   "codemirror_mode": {
    "name": "ipython",
    "version": 3
   },
   "file_extension": ".py",
   "mimetype": "text/x-python",
   "name": "python",
   "nbconvert_exporter": "python",
   "pygments_lexer": "ipython3",
   "version": "3.7.0"
  }
 },
 "nbformat": 4,
 "nbformat_minor": 2
}
